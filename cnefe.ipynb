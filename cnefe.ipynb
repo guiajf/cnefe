{
 "cells": [
  {
   "cell_type": "markdown",
   "id": "aa397ea0-4198-45df-88e6-09caef461b42",
   "metadata": {},
   "source": [
    "# Checagem de fatos com Python"
   ]
  },
  {
   "cell_type": "markdown",
   "id": "e473e532-8fad-4083-8d40-4e785b0ccee5",
   "metadata": {},
   "source": [
    "### Coleta de dados"
   ]
  },
  {
   "cell_type": "markdown",
   "id": "4bd9d9e5-5ece-43d8-a171-04b7d0f1f4ad",
   "metadata": {},
   "source": [
    "Para baixar e processar o **CNEFE** - *Cadastro Nacional de Endereços para Fins Estatísticos* do IBGE, utilizamos o roteiro disponível no [GitHub](https://github.com/guiajf/igrejas)."
   ]
  },
  {
   "cell_type": "markdown",
   "id": "64e735bd-2ce9-4f1f-8263-2f13ad64b53e",
   "metadata": {},
   "source": [
    "### Importamos as bibliotecas"
   ]
  },
  {
   "cell_type": "code",
   "execution_count": null,
   "id": "b520fec1-75de-49d3-8986-32a8deb94f43",
   "metadata": {},
   "outputs": [],
   "source": [
    "import geobr\n",
    "import folium\n",
    "import matplotlib.pyplot as plt\n",
    "import pandas as pd\n",
    "import geopandas as gpd\n",
    "from folium.plugins import MarkerCluster, Fullscreen\n",
    "import zipfile\n",
    "\n",
    "%matplotlib inline"
   ]
  },
  {
   "cell_type": "markdown",
   "id": "a4804fd7-f4f3-43fa-800b-8cab28a687df",
   "metadata": {},
   "source": [
    "### Extraímos os dados"
   ]
  },
  {
   "cell_type": "code",
   "execution_count": null,
   "id": "4f38daa8-6647-4d29-b805-f16d2ed31989",
   "metadata": {},
   "outputs": [],
   "source": [
    "with zipfile.ZipFile('3136702_JUIZ_DE_FORA.zip') as z:\n",
    "    with z.open('3136702_JUIZ_DE_FORA.csv') as f:\n",
    "        chunks = pd.read_csv(f, \n",
    "                            sep=';',\n",
    "                            chunksize=10000,\n",
    "                            usecols=['COD_ESPECIE',\n",
    "                                     'COD_SETOR', \n",
    "                                     'DSC_ESTABELECIMENTO', \n",
    "                                     'LATITUDE', 'LONGITUDE',\n",
    "                                     'NOM_TIPO_SEGLOGR',\n",
    "                                     'NOM_TITULO_SEGLOGR',\n",
    "                                     'NOM_SEGLOGR',\n",
    "                                     'NUM_ENDERECO',\n",
    "                                     'NOM_COMP_ELEM1',\n",
    "                                     'VAL_COMP_ELEM1',\n",
    "                                     'NOM_COMP_ELEM2',\n",
    "                                     'VAL_COMP_ELEM2',\n",
    "                                     'NOM_COMP_ELEM3',   \n",
    "                                     'VAL_COMP_ELEM3',                                        \n",
    "                                     'CEP',\n",
    "                                     'DSC_LOCALIDADE',\n",
    "                                     'COD_INDICADOR_ESTAB_ENDERECO'])\n",
    "        \n",
    "        # Carregar todos os dados das categorias 4, 5 e 8\n",
    "        filtered_data = pd.concat([\n",
    "            chunk[chunk['COD_ESPECIE'].isin([4, 5, 8])] \n",
    "            for chunk in chunks\n",
    "        ])\n",
    "\n",
    "# Criar coluna END com todos os complementos\n",
    "def formatar_endereco_completo(row):\n",
    "    # Parte básica do endereço\n",
    "    partes_logradouro = []\n",
    "    \n",
    "    if pd.notna(row['NOM_TIPO_SEGLOGR']):\n",
    "        partes_logradouro.append(row['NOM_TIPO_SEGLOGR'])\n",
    "    if pd.notna(row['NOM_TITULO_SEGLOGR']):\n",
    "        partes_logradouro.append(row['NOM_TITULO_SEGLOGR'])\n",
    "    if pd.notna(row['NOM_SEGLOGR']):\n",
    "        partes_logradouro.append(row['NOM_SEGLOGR'])\n",
    "    \n",
    "    logradouro = ' '.join(partes_logradouro)\n",
    "    endereco_base = f\"{logradouro}, {row['NUM_ENDERECO']}\"\n",
    "    \n",
    "    # Adicionar complementos se existirem\n",
    "    complemento = \"\"\n",
    "\n",
    "    # Primeiro complemento\n",
    "    if pd.notna(row['NOM_COMP_ELEM1']) and pd.notna(row['VAL_COMP_ELEM1']):\n",
    "        complemento += f\" - {row['NOM_COMP_ELEM1']} {row['VAL_COMP_ELEM1']}\"\n",
    "    elif pd.notna(row['NOM_COMP_ELEM1']):\n",
    "        complemento += f\" - {row['NOM_COMP_ELEM1']}\"\n",
    "    elif pd.notna(row['VAL_COMP_ELEM1']):\n",
    "        complemento += f\" - {row['VAL_COMP_ELEM1']}\"\n",
    "\n",
    "    # Segundo complemento\n",
    "    if pd.notna(row['NOM_COMP_ELEM2']) and pd.notna(row['VAL_COMP_ELEM2']):\n",
    "        complemento += f\" - {row['NOM_COMP_ELEM2']} {row['VAL_COMP_ELEM2']}\"\n",
    "    elif pd.notna(row['NOM_COMP_ELEM2']):\n",
    "        complemento += f\" - {row['NOM_COMP_ELEM2']}\"\n",
    "    elif pd.notna(row['VAL_COMP_ELEM2']):\n",
    "        complemento += f\" - {row['VAL_COMP_ELEM2']}\"\n",
    "\n",
    "    # Terceiro complemento\n",
    "    if pd.notna(row['NOM_COMP_ELEM3']) and pd.notna(row['VAL_COMP_ELEM3']):\n",
    "        complemento += f\" {row['NOM_COMP_ELEM3']} {row['VAL_COMP_ELEM3']}\"\n",
    "    elif pd.notna(row['NOM_COMP_ELEM3']):\n",
    "        complemento += f\" {row['NOM_COMP_ELEM3']}\"\n",
    "    elif pd.notna(row['VAL_COMP_ELEM3']):\n",
    "        complemento += f\" {row['VAL_COMP_ELEM3']}\"        \n",
    "    \n",
    "    endereco_completo = endereco_base + complemento\n",
    "    \n",
    "    # Limpar espaços extras\n",
    "    return ' '.join(endereco_completo.split())\n",
    "\n",
    "filtered_data['END'] = filtered_data.apply(formatar_endereco_completo, axis=1)\n",
    "\n",
    "# Mapear códigos para nomes das categorias\n",
    "categorias_nomes = {\n",
    "    4: 'Estabelecimento de Ensino', \n",
    "    5: 'Estabelecimento de Saúde',\n",
    "    8: 'Estabelecimento Religioso'\n",
    "}\n",
    "\n",
    "filtered_data['CATEGORIA_NOME'] = filtered_data['COD_ESPECIE'].map(categorias_nomes)"
   ]
  },
  {
   "cell_type": "markdown",
   "id": "e607465c-0d94-46da-a867-71413048aea7",
   "metadata": {},
   "source": [
    "### Definimos o polígono do município"
   ]
  },
  {
   "cell_type": "markdown",
   "id": "bd2cbf43-27a5-49ab-abf4-62da796f7bc9",
   "metadata": {},
   "source": [
    "Para definir o polígono do município, utilizamos o pacote **geobr**, desenvolvido e mantido pela equipe do **IPEA** - *Instituto de Pesquisa Econômica Aplicada*, que disponibiliza funções para obter diversas bases de dados espaciais oficiais do Brasil."
   ]
  },
  {
   "cell_type": "code",
   "execution_count": null,
   "id": "20d1e75f-fe24-4376-8c7b-abf609b3e24a",
   "metadata": {},
   "outputs": [],
   "source": [
    "# Município de Juiz de Fora\n",
    "jf = geobr.read_municipality(code_muni=3136702, year=2022)"
   ]
  },
  {
   "cell_type": "code",
   "execution_count": null,
   "id": "d5fa4ad7-acd0-46b5-9349-4359eddcb3c7",
   "metadata": {},
   "outputs": [],
   "source": [
    "# Polígono de Juiz de Fora\n",
    "fig, ax = plt.subplots(figsize=(4, 4), dpi=300)\n",
    "\n",
    "jf.plot(facecolor=\"lightblue\", edgecolor=\"#FEBF57\", ax=ax)\n",
    "\n",
    "ax.set_title(\"Juiz de Fora\", fontsize=10)\n",
    "ax.axis(\"off\")"
   ]
  },
  {
   "cell_type": "markdown",
   "id": "b8cd1f40-41f3-4f79-a3ec-1f493234580f",
   "metadata": {},
   "source": [
    "### Sistema geodésico de referência"
   ]
  },
  {
   "cell_type": "markdown",
   "id": "374dda2a-0090-41ab-87e7-40f730db2cb5",
   "metadata": {},
   "source": [
    "O **geobr** utiliza o sistema geodésico de referência *SIRGAS2000*, **CRS(ESPG 4674)**, oficialmente adotado pelo Brasil e, portanto, utilizado pelo **IBGE** por padrão."
   ]
  },
  {
   "cell_type": "code",
   "execution_count": null,
   "id": "b09d2167-bdf1-4c55-a0b3-8cee4d6d10bd",
   "metadata": {},
   "outputs": [],
   "source": [
    "jf.crs"
   ]
  },
  {
   "cell_type": "markdown",
   "id": "c656073a-5607-410b-9696-bee80ec74f97",
   "metadata": {},
   "source": [
    "### Características do objeto"
   ]
  },
  {
   "cell_type": "markdown",
   "id": "a7b456c2-cbe8-4887-b0c2-e35ea4a79808",
   "metadata": {},
   "source": [
    "O objeto **jf** é um GeoDataFrame que armazena dados geoespaciais. Sua coluna *geometry* contém a representação geográfica do município no formato **MULTIPOLYGON**."
   ]
  },
  {
   "cell_type": "code",
   "execution_count": null,
   "id": "48974be8-b7d6-4826-917c-f16e05b046ea",
   "metadata": {},
   "outputs": [],
   "source": [
    "jf"
   ]
  },
  {
   "cell_type": "code",
   "execution_count": null,
   "id": "ea0d010f-f99c-4279-b7b0-6c219a3ea0df",
   "metadata": {},
   "outputs": [],
   "source": [
    "jf.info()"
   ]
  },
  {
   "cell_type": "code",
   "execution_count": null,
   "id": "279e2b39-fc4d-4072-a96d-b87b9cdf8e31",
   "metadata": {},
   "outputs": [],
   "source": [
    "print(jf.geometry.geom_type)"
   ]
  },
  {
   "cell_type": "markdown",
   "id": "2b1da2df-bfe5-46ac-8bc5-53beb1a90f77",
   "metadata": {},
   "source": [
    "## Criamos o mapa básico"
   ]
  },
  {
   "cell_type": "markdown",
   "id": "597032da-5939-4a80-90d5-e2ac9d3738e0",
   "metadata": {},
   "source": [
    "Utilizamos **Folium**, biblioteca Python para visualização de dados geoespaciais, que funciona como uma interface para a biblioteca *JavaScript* *Leaflet.js*."
   ]
  },
  {
   "cell_type": "code",
   "execution_count": null,
   "id": "06c747db-e711-4a0e-b260-53b3bf8801cc",
   "metadata": {},
   "outputs": [],
   "source": [
    "# Calcular centro do mapa baseado em todas as coordenadas válidas\n",
    "valid_coords = filtered_data.dropna(subset=['LATITUDE', 'LONGITUDE'])\n",
    "map_center = [valid_coords['LATITUDE'].mean(), valid_coords['LONGITUDE'].mean()]\n",
    "\n",
    "m = folium.Map(location=map_center, zoom_start=10, tiles='OpenStreetMap')\n",
    "m"
   ]
  },
  {
   "cell_type": "markdown",
   "id": "990be9ed-65ce-4439-8506-32597ce6ddbb",
   "metadata": {},
   "source": [
    "### Adicionamos o polígono como uma camada json"
   ]
  },
  {
   "cell_type": "markdown",
   "id": "19f2084a-e6b3-40d1-9e42-e3377498dff9",
   "metadata": {},
   "source": [
    "Convertemos o polígono do município para o sistema geodésico de referência **ESPSG:4326 (WGS84)**, padrão de entrada do **Folium** para representar camadas vetoriais."
   ]
  },
  {
   "cell_type": "code",
   "execution_count": null,
   "id": "9e5da031-9716-48a0-af56-95db4ce864db",
   "metadata": {},
   "outputs": [],
   "source": [
    "# Adicionar polígono como uma camada json\n",
    "jf_geojson = jf.to_crs(epsg=4326).to_json()\n",
    "\n",
    "folium.GeoJson(\n",
    "    jf_geojson,\n",
    "    name='Polígono de Juiz de Fora',  # Nome que aparecerá no controle\n",
    "    style_function=lambda x: {\n",
    "        'fillColor': 'lightblue',\n",
    "        'color': '#FEBF57',\n",
    "        'weight': 2,\n",
    "        'fillOpacity': 0.3\n",
    "    },\n",
    "    tooltip='Juiz de Fora'\n",
    ").add_to(m)\n",
    "m"
   ]
  },
  {
   "cell_type": "markdown",
   "id": "9f6eccae-6594-44a2-95a3-88994443141a",
   "metadata": {},
   "source": [
    "### Definimos as camadas"
   ]
  },
  {
   "cell_type": "code",
   "execution_count": null,
   "id": "0ddb8579-d9a8-4c69-a1a2-ea3c69a4b526",
   "metadata": {},
   "outputs": [],
   "source": [
    "\n",
    "# Criar FeatureGroup com MarkerCluster para cada categoria\n",
    "feature_groups = {}\n",
    "marker_clusters = {}\n",
    "cores = {\n",
    "    4: 'blue',     # Ensino - azul\n",
    "    5: 'red',      # Saúde - vermelho\n",
    "    8: 'purple'    # Religioso - roxo\n",
    "}\n",
    "\n",
    "icones = {\n",
    "    4: 'graduation-cap',    # Ensino\n",
    "    5: 'medkit',           # Saúde\n",
    "    8: 'pray'              # Religioso\n",
    "}\n",
    "\n",
    "# Configurações de estilo para os clusters\n",
    "cluster_styles = {\n",
    "    4: {'color': 'blue', 'fillColor': '#87CEEB'},     # Azul claro\n",
    "    5: {'color': 'red', 'fillColor': '#FFB6C1'},      # Vermelho claro\n",
    "    8: {'color': 'purple', 'fillColor': '#DDA0DD'}    # Roxo claro\n",
    "}\n",
    "\n",
    "for codigo, nome in categorias_nomes.items():\n",
    "    # Criar FeatureGroup para a categoria\n",
    "    feature_groups[codigo] = folium.FeatureGroup(\n",
    "        name=nome, \n",
    "        show=False  # Inicia com todas as categorias ocultas\n",
    "    )\n",
    "    \n",
    "    # Criar MarkerCluster para a categoria com configurações personalizadas\n",
    "    marker_clusters[codigo] = MarkerCluster(\n",
    "        name=f\"{nome} - Cluster\",\n",
    "        options={\n",
    "            'maxClusterRadius': 50,\n",
    "            'disableClusteringAtZoom': 18,\n",
    "            'spiderfyOnMaxZoom': True,\n",
    "            'showCoverageOnHover': True,\n",
    "            'zoomToBoundsOnClick': True,\n",
    "            'chunkedLoading': True  # Melhora performance para grandes datasets\n",
    "        },\n",
    "        icon_create_function=f\"\"\"\n",
    "        function(cluster) {{\n",
    "            var count = cluster.getChildCount();\n",
    "            var size = count < 10 ? 'small' : count < 50 ? 'medium' : 'large';\n",
    "            var color = '{cluster_styles[codigo]['color']}';\n",
    "            var fillColor = '{cluster_styles[codigo]['fillColor']}';\n",
    "            return new L.DivIcon({{\n",
    "                html: '<div style=\"background-color:' + fillColor + '; border: 2px solid ' + color + '\"><span>' + count + '</span></div>',\n",
    "                className: 'marker-cluster marker-cluster-' + size,\n",
    "                iconSize: new L.Point(40, 40)\n",
    "            }});\n",
    "        }}\n",
    "        \"\"\"\n",
    "    )\n",
    "    \n",
    "    # Adicionar o cluster ao FeatureGroup\n",
    "    marker_clusters[codigo].add_to(feature_groups[codigo])\n",
    "    \n",
    "    # Adicionar o FeatureGroup ao mapa\n",
    "    m.add_child(feature_groups[codigo])\n",
    "\n",
    "# Adicionar marcadores aos respectivos MarkerClusters\n",
    "for idx, row in valid_coords.iterrows():\n",
    "    categoria = row['COD_ESPECIE']\n",
    "    \n",
    "    # Criar ícone personalizado para cada categoria\n",
    "    icon = folium.Icon(\n",
    "        icon=icones[categoria],\n",
    "        prefix='fa',\n",
    "        color=cores[categoria],\n",
    "        icon_color='white'\n",
    "    )\n",
    "    \n",
    "    # Criar popup informativo\n",
    "    popup_text = f\"\"\"\n",
    "    <div style=\"min-width: 250px;\">\n",
    "        <h4 style=\"margin: 0; color: {cores[categoria]};\">{row['DSC_ESTABELECIMENTO']}</h4>\n",
    "        <hr style=\"margin: 5px 0;\">\n",
    "        <p style=\"margin: 2px 0;\"><b>Categoria:</b> {row['CATEGORIA_NOME']}</p>\n",
    "        <p style=\"margin: 2px 0;\"><b>Endereço:</b> {row['END']}</p>\n",
    "        <p style=\"margin: 2px 0;\"><b>Localidade:</b> {row['DSC_LOCALIDADE']}</p>\n",
    "        <p style=\"margin: 2px 0;\"><b>CEP:</b> {row['CEP']}</p>\n",
    "        <p style=\"margin: 2px 0;\"><b>Setor:</b> {row['COD_SETOR']}</p>\n",
    "    </div>\n",
    "    \"\"\"\n",
    "    \n",
    "    # Criar marcador\n",
    "    marker = folium.Marker(\n",
    "        location=[row['LATITUDE'], row['LONGITUDE']],\n",
    "        popup=folium.Popup(popup_text, max_width=300),\n",
    "        icon=icon,\n",
    "        tooltip=f\"{row['DSC_ESTABELECIMENTO']}\"\n",
    "    )\n",
    "    \n",
    "    # Adicionar marcador ao cluster da categoria\n",
    "    marker.add_to(marker_clusters[categoria])\n",
    "\n",
    "# Adicionar plugin de tela cheia\n",
    "fullscreen_plugin = Fullscreen(\n",
    "    position='bottomleft',\n",
    "    title='Expandir tela',\n",
    "    title_cancel='Sair da tela cheia',\n",
    "    force_separate_button=True\n",
    ").add_to(m)\n",
    "\n",
    "# Adicionar controle de camadas\n",
    "folium.LayerControl(collapsed=False).add_to(m)\n",
    "\n",
    "# Adicionar título ao mapa\n",
    "title_html = '''\n",
    "             <h3 align=\"center\" style=\"font-size:16px\"><b>Estabelecimentos: Ensino/Saúde/Religioso - Juiz de Fora</b></h3>\n",
    "             <p align=\"center\">Selecione a(s) categoria(s)</p>\n",
    "             '''\n",
    "m.get_root().html.add_child(folium.Element(title_html))\n",
    "\n",
    "# Exibir o mapa\n",
    "display(m)"
   ]
  },
  {
   "cell_type": "markdown",
   "id": "6058c575-2700-46e1-ba9e-ec4207610d90",
   "metadata": {},
   "source": [
    "### Confirmamos as premissas da manchete"
   ]
  },
  {
   "cell_type": "code",
   "execution_count": null,
   "id": "f42681d8-8f5f-4ee0-a205-8cd33cd9b87a",
   "metadata": {},
   "outputs": [],
   "source": [
    "# 4. Exibir estatísticas por categoria\n",
    "print(\"=== ESTATÍSTICAS POR CATEGORIA ===\")\n",
    "estatisticas = filtered_data['CATEGORIA_NOME'].value_counts()\n",
    "total_estabelecimentos = len(filtered_data)\n",
    "\n",
    "for categoria, quantidade in estatisticas.items():\n",
    "    percentual = (quantidade / total_estabelecimentos) * 100\n",
    "    print(f\"• {categoria}: {quantidade} estabelecimentos ({percentual:.1f}%)\")\n",
    "\n",
    "print(f\"\\nTotal de estabelecimentos mapeados: {total_estabelecimentos}\")"
   ]
  },
  {
   "cell_type": "code",
   "execution_count": null,
   "id": "b833dc2d-243e-48d7-982c-7fc3cab1d181",
   "metadata": {},
   "outputs": [],
   "source": []
  }
 ],
 "metadata": {
  "kernelspec": {
   "display_name": "Python 3 (ipykernel)",
   "language": "python",
   "name": "python3"
  },
  "language_info": {
   "codemirror_mode": {
    "name": "ipython",
    "version": 3
   },
   "file_extension": ".py",
   "mimetype": "text/x-python",
   "name": "python",
   "nbconvert_exporter": "python",
   "pygments_lexer": "ipython3",
   "version": "3.12.3"
  }
 },
 "nbformat": 4,
 "nbformat_minor": 5
}
